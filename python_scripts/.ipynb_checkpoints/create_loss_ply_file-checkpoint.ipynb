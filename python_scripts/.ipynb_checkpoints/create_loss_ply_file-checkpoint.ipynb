{
 "cells": [
  {
   "cell_type": "code",
   "execution_count": 64,
   "id": "f89f006d",
   "metadata": {},
   "outputs": [],
   "source": [
    "import torch\n",
    "import torchvision\n",
    "import torchvision.transforms as transforms\n",
    "import matplotlib.pyplot as plt\n",
    "import numpy as np\n",
    "import torchvision.models as models\n",
    "import torch.nn as nn\n",
    "import torch.optim as optim\n",
    "import copy\n",
    "import matplotlib.pyplot as plt"
   ]
  },
  {
   "cell_type": "code",
   "execution_count": 65,
   "id": "f9b154db",
   "metadata": {},
   "outputs": [],
   "source": [
    "def get_data():\n",
    "    transform = transforms.Compose([\n",
    "        transforms.Resize((224, 224)),\n",
    "        transforms.ToTensor(),\n",
    "        transforms.Normalize((0.5, 0.5, 0.5), (0.5, 0.5, 0.5))\n",
    "    ])\n",
    "    \n",
    "    training_data = torchvision.datasets.CIFAR10(root = 'data',\n",
    "                                               train = True,\n",
    "                                               transform = transform,\n",
    "                                               download = True)\n",
    "\n",
    "    testing_data = torchvision.datasets.CIFAR10(root = 'data',\n",
    "                                              train = False,\n",
    "                                              transform = transform,\n",
    "                                              download=True)\n",
    "    \n",
    "    return training_data, testing_data\n",
    "\n",
    "def get_loaders(training_data, testing_data, batch_size):\n",
    "    training_loader = torch.utils.data.DataLoader(dataset = training_data,\n",
    "                                                  batch_size = batch_size,\n",
    "                                                  shuffle = True)\n",
    "\n",
    "    testing_loader = torch.utils.data.DataLoader(dataset = testing_data,\n",
    "                                                 batch_size = batch_size,\n",
    "                                                 shuffle = True)\n",
    "    \n",
    "    return training_loader, testing_loader"
   ]
  },
  {
   "cell_type": "code",
   "execution_count": 66,
   "id": "00d6de4c",
   "metadata": {},
   "outputs": [],
   "source": [
    "def train(model, training_loader, criterion, optimizer):\n",
    "    model.train()\n",
    "    running_loss = 0.0\n",
    "    num_correct = 0\n",
    "    for i, data in enumerate(training_loader):\n",
    "        # TODO: remove this, just here to cut down on running time\n",
    "        if(i == 50):\n",
    "            break\n",
    "        print(\"Training i:\" + str(i))\n",
    "        data, labels = data[0].to(device), data[1].to(device)\n",
    "        optimizer.zero_grad()\n",
    "        output = model(data)\n",
    "        loss = criterion(output, labels)\n",
    "        running_loss += loss.item()\n",
    "        _, predictions = torch.max(output.data, 1)\n",
    "        num_correct += (predictions == labels).sum().item()\n",
    "        loss.backward()\n",
    "        optimizer.step()\n",
    "    \n",
    "    # TODO: remove this, just here to cut down on running time\n",
    "    loss = running_loss/(10*50)\n",
    "    #loss = running_loss/len(training_loader.dataset)\n",
    "    accuracy = num_correct/ (10*50)\n",
    "    #accuracy = num_correct/len(training_loader.dataset)\n",
    "    print(f'Train Loss: {loss:.4f}, Train Acc: {accuracy:.2f}')\n",
    "    \n",
    "    return loss, accuracy\n",
    "\n",
    "def test(model, testing_loader, criterion):\n",
    "    model.eval()\n",
    "    running_loss = 0.0\n",
    "    num_correct = 0\n",
    "    for i, data in enumerate(testing_loader):\n",
    "        # TODO: remove this, just here to cut down on running time\n",
    "        if(i == 10):\n",
    "            break\n",
    "        print(\"Testing i:\" + str(i))\n",
    "        data, labels = data[0].to(device), data[1].to(device)\n",
    "        output = model(data)\n",
    "        loss = criterion(output, labels)\n",
    "        running_loss += loss.item()\n",
    "        _, predictions = torch.max(output.data, 1)\n",
    "        num_correct += (predictions == labels).sum().item()\n",
    "    \n",
    "    # TODO: remove this, just here to cut down on running time\n",
    "    loss = running_loss/(10*10)\n",
    "    #loss = running_loss/len(testing_loader.dataset)\n",
    "    accuracy = num_correct/(10*10)\n",
    "    #accuracy = num_correct/len(testing_loader.dataset)\n",
    "    print(f'Test Loss: {loss:.4f}, Test Acc: {accuracy:.2f}')\n",
    "    \n",
    "    return loss, accuracy\n",
    "\n",
    "def train_and_test(model, training_loader, testing_loader, criterion, optimizer):\n",
    "    training_historical_loss, training_historical_accuracy = [], []\n",
    "    testing_historical_loss, testing_historical_accuracy = [], []\n",
    "    for epoch in range(3):\n",
    "        print(\"epoch: \" + str(epoch))\n",
    "        training_loss, training_accuracy = train(model, training_loader, criterion, optimizer)\n",
    "        testing_loss, testing_accuracy = test(model, testing_loader, criterion)\n",
    "        training_historical_loss.append(training_loss)\n",
    "        training_historical_accuracy.append(training_accuracy)\n",
    "        testing_historical_loss.append(testing_loss)\n",
    "        testing_historical_loss.append(testing_accuracy)\n",
    "        \n",
    "    return  training_historical_loss, testing_historical_loss\n"
   ]
  },
  {
   "cell_type": "code",
   "execution_count": 67,
   "id": "384b1ba2",
   "metadata": {},
   "outputs": [],
   "source": [
    "def get_weights(model):\n",
    "    return [param.data for param in model.parameters()]\n",
    "\n",
    "def get_random_directions(weights):\n",
    "    return [torch.randn(w.size()) for w in weights]\n",
    "\n",
    "def normalize_directions(directions, weights):\n",
    "    for d, w in zip(directions, weights):\n",
    "        d.mul_(w.norm()/(d.norm() + 1e-10))"
   ]
  },
  {
   "cell_type": "code",
   "execution_count": 68,
   "id": "57d94b68",
   "metadata": {},
   "outputs": [],
   "source": [
    "def plot_figure(X, Y, Z, title):\n",
    "    fig = plt.figure(figsize=(10,7.5))\n",
    "    ax0 = fig.add_subplot(projection='3d' )\n",
    "\n",
    "    ax0.view_init(elev=30, azim=-20)\n",
    "    ax0.set_xlabel('X', labelpad=9)\n",
    "    ax0.set_ylabel('Y', labelpad=-5)\n",
    "    ax0.set_zlabel(\"Loss\", labelpad=-30)\n",
    "    ax0.tick_params(axis='x', pad=5, which='major')\n",
    "    ax0.tick_params(axis='y', pad=-5, which='major')\n",
    "    ax0.tick_params(axis='z', pad=5, which='major')\n",
    "    ax0.set_title(title, y=0.85)\n",
    "    ax0.plot_surface(X, Y, Z, cmap='terrain', antialiased=True, cstride=1, rstride=1, alpha=0.75)\n",
    "\n",
    "    plt.show()"
   ]
  },
  {
   "cell_type": "code",
   "execution_count": 69,
   "id": "93efe758",
   "metadata": {},
   "outputs": [],
   "source": [
    "def get_random_direction_losses(model, testing_loader, criterion):\n",
    "    \n",
    "    weights = get_weights(vgg11)\n",
    "\n",
    "    random_x_directions = get_random_directions(weights);\n",
    "    random_y_directions = get_random_directions(weights);\n",
    "\n",
    "    normalize_directions(random_x_directions, weights);\n",
    "    normalize_directions(random_y_directions, weights);\n",
    "\n",
    "    x_coordinates = np.arange(-0.1, 0.125, 0.025)   \n",
    "    y_coordinates = np.arange(-0.1, 0.125, 0.025)  \n",
    "    X, Y = np.meshgrid(x_coordinates, y_coordinates)\n",
    "    Z = np.zeros((x_coordinates.size, y_coordinates.size))\n",
    "\n",
    "    for y_index, y in enumerate(y_coordinates):\n",
    "        for x_index, x in enumerate(x_coordinates):\n",
    "        \n",
    "            print(\"X: \" + str(x))\n",
    "            print(\"Y: \" + str(y))\n",
    "        \n",
    "            updated_x_directions = [direction * x for direction in random_x_directions]\n",
    "            updated_y_directions = [direction * y for direction in random_y_directions]\n",
    "            delta = [sum(direction) for direction in zip(updated_x_directions, updated_y_directions)]\n",
    "            old_weights = copy.deepcopy(get_weights(model))\n",
    "        \n",
    "            for (p, w, d) in zip(model.parameters(), old_weights, delta):\n",
    "                p.data = w + torch.Tensor(d).type(type(w))\n",
    "            \n",
    "            testing_loss, testing_accuracy = test(model, testing_loader, criterion)\n",
    "            Z[y_index][x_index] = testing_loss\n",
    "        \n",
    "            for (p, w) in zip(model.parameters(), old_weights):\n",
    "                p.data = w\n",
    "                \n",
    "\n",
    "    return X, Y, Z"
   ]
  },
  {
   "cell_type": "code",
   "execution_count": 70,
   "id": "cea91161",
   "metadata": {},
   "outputs": [],
   "source": [
    "def create_loss_landscape(model, training_loader, testing_loader, graph_title):\n",
    "    model.to(device)\n",
    "    criterion = nn.CrossEntropyLoss()\n",
    "    optimizer = optim.SGD(model.parameters(), lr=0.001, momentum=0.9)\n",
    "    training_historical_loss, testing_historical_loss = train_and_test(model, training_loader, testing_loader, criterion, optimizer)\n",
    "    X, Y, Z = get_random_direction_losses(model, testing_loader, criterion)\n",
    "    plot_figure(X, Y, Z, graph_title)"
   ]
  },
  {
   "cell_type": "code",
   "execution_count": 71,
   "id": "35f275fc",
   "metadata": {},
   "outputs": [],
   "source": [
    "def create_VGG_loss_landscape(training_loader, testing_loader):\n",
    "    vgg11 = models.vgg11(weights = models.VGG11_Weights.DEFAULT)\n",
    "\n",
    "    # change the number of classes \n",
    "    vgg11.classifier[6].out_features = 10\n",
    "    \n",
    "    create_loss_landscape(vgg11, training_loader, testing_loader, 'YGG Random Directions')"
   ]
  },
  {
   "cell_type": "code",
   "execution_count": 72,
   "id": "b3dd11f9",
   "metadata": {},
   "outputs": [],
   "source": [
    "def create_ResNet_loss_landscape(training_loader, testing_loader):\n",
    "    resnet50 = models.resnet50(weights = models.ResNet50_Weights.DEFAULT)\n",
    "\n",
    "    # change the number of classes \n",
    "    resnet50.fc.out_features = 10\n",
    "    \n",
    "    create_loss_landscape(resnet50, training_loader, testing_loader, 'ResNet Random Directions')"
   ]
  },
  {
   "cell_type": "markdown",
   "id": "fe34e579",
   "metadata": {},
   "source": [
    "# Orchestration"
   ]
  },
  {
   "cell_type": "code",
   "execution_count": 73,
   "id": "db62ed37",
   "metadata": {},
   "outputs": [
    {
     "name": "stdout",
     "output_type": "stream",
     "text": [
      "Files already downloaded and verified\n",
      "Files already downloaded and verified\n",
      "cpu\n"
     ]
    },
    {
     "ename": "TypeError",
     "evalue": "create_loss_landscape() missing 1 required positional argument: 'graph_title'",
     "output_type": "error",
     "traceback": [
      "\u001b[0;31m---------------------------------------------------------------------------\u001b[0m",
      "\u001b[0;31mTypeError\u001b[0m                                 Traceback (most recent call last)",
      "Cell \u001b[0;32mIn [73], line 8\u001b[0m\n\u001b[1;32m      5\u001b[0m device \u001b[38;5;241m=\u001b[39m torch\u001b[38;5;241m.\u001b[39mdevice(\u001b[38;5;124m\"\u001b[39m\u001b[38;5;124mcuda:0\u001b[39m\u001b[38;5;124m\"\u001b[39m \u001b[38;5;28;01mif\u001b[39;00m torch\u001b[38;5;241m.\u001b[39mcuda\u001b[38;5;241m.\u001b[39mis_available() \u001b[38;5;28;01melse\u001b[39;00m \u001b[38;5;124m\"\u001b[39m\u001b[38;5;124mcpu\u001b[39m\u001b[38;5;124m\"\u001b[39m)\n\u001b[1;32m      6\u001b[0m \u001b[38;5;28mprint\u001b[39m(device)\n\u001b[0;32m----> 8\u001b[0m create_ResNet_loss_landscape(training_loader, testing_loader)\n\u001b[1;32m      9\u001b[0m create_VGG_loss_landscape(training_loader, testing_loader)\n",
      "Cell \u001b[0;32mIn [72], line 7\u001b[0m, in \u001b[0;36mcreate_ResNet_loss_landscape\u001b[0;34m(training_loader, testing_loader)\u001b[0m\n\u001b[1;32m      4\u001b[0m \u001b[38;5;66;03m# change the number of classes \u001b[39;00m\n\u001b[1;32m      5\u001b[0m resnet50\u001b[38;5;241m.\u001b[39mfc\u001b[38;5;241m.\u001b[39mout_features \u001b[38;5;241m=\u001b[39m \u001b[38;5;241m10\u001b[39m\n\u001b[0;32m----> 7\u001b[0m \u001b[43mcreate_loss_landscape\u001b[49m\u001b[43m(\u001b[49m\u001b[43mresnet50\u001b[49m\u001b[43m,\u001b[49m\u001b[43m \u001b[49m\u001b[43mtraining_loader\u001b[49m\u001b[43m,\u001b[49m\u001b[43m \u001b[49m\u001b[43mtesting_loader\u001b[49m\u001b[43m,\u001b[49m\u001b[43m \u001b[49m\u001b[38;5;124;43m'\u001b[39;49m\u001b[38;5;124;43mResNet Random Directions\u001b[39;49m\u001b[38;5;124;43m'\u001b[39;49m\u001b[43m)\u001b[49m\n",
      "\u001b[0;31mTypeError\u001b[0m: create_loss_landscape() missing 1 required positional argument: 'graph_title'"
     ]
    }
   ],
   "source": [
    "training_data, testing_data = get_data()\n",
    "training_loader, testing_loader = get_loaders(training_data, testing_data, 10)\n",
    "classes = training_data.classes\n",
    "\n",
    "device = torch.device(\"cuda:0\" if torch.cuda.is_available() else \"cpu\")\n",
    "print(device)\n",
    "\n",
    "create_ResNet_loss_landscape(training_loader, testing_loader)\n",
    "create_VGG_loss_landscape(training_loader, testing_loader)"
   ]
  },
  {
   "cell_type": "code",
   "execution_count": null,
   "id": "facafa30",
   "metadata": {},
   "outputs": [],
   "source": []
  }
 ],
 "metadata": {
  "kernelspec": {
   "display_name": "Python 3 (ipykernel)",
   "language": "python",
   "name": "python3"
  },
  "language_info": {
   "codemirror_mode": {
    "name": "ipython",
    "version": 3
   },
   "file_extension": ".py",
   "mimetype": "text/x-python",
   "name": "python",
   "nbconvert_exporter": "python",
   "pygments_lexer": "ipython3",
   "version": "3.10.7"
  }
 },
 "nbformat": 4,
 "nbformat_minor": 5
}
